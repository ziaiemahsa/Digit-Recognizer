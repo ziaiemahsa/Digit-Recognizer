{
  "nbformat": 4,
  "nbformat_minor": 0,
  "metadata": {
    "colab": {
      "provenance": [],
      "authorship_tag": "ABX9TyMNiFzmQHXM+HyGJcZ7dKc9",
      "include_colab_link": true
    },
    "kernelspec": {
      "name": "python3",
      "display_name": "Python 3"
    },
    "language_info": {
      "name": "python"
    }
  },
  "cells": [
    {
      "cell_type": "markdown",
      "metadata": {
        "id": "view-in-github",
        "colab_type": "text"
      },
      "source": [
        "<a href=\"https://colab.research.google.com/github/ziaiemahsa/Digit-Recognizer/blob/main/NN_MNIST.ipynb\" target=\"_parent\"><img src=\"https://colab.research.google.com/assets/colab-badge.svg\" alt=\"Open In Colab\"/></a>"
      ]
    },
    {
      "cell_type": "markdown",
      "metadata": {
        "id": "JXQEFHeCwQHx"
      },
      "source": [
        "#<font color=SteelBlue><b>Building a Neural Network from Scratch using Numpy and Math Libraries for the MNIST dataset of handwritten digits </b></font>"
      ]
    },
    {
      "cell_type": "markdown",
      "source": [
        "####<b>Code Description:</b>\n",
        "Implemented a simple neural network and trained it on the MNIST dataset.\n",
        "\n",
        "Input layer 784 units ->  hidden layer 10 units with ReLU activation -> output layer 10 units for ten digit classes with softmax activation.\n",
        "\n",
        "softmax:\n",
        "1. The naive softmax involves calculating the exponential of each element in the input array Z, followed by dividing each element by the sum of all exponentials. This implementation of the softmax function is straightforward but can result in numerical instability. Overflow errors can occur if Z contains very large elements due to the rapid growth of the exponential function, potentially exceeding the representable range of the data type. Similarly, underflow errors may arise if all elements in Z are very small, causing the sum to approach zero and leading to a loss of precision when dividing by a small number.\n",
        "\n",
        "2. In the improved stability softmax approach, the maximum value in Z is subtracted from each element before computing the exponentials. This adjustment is made to enhance numerical stability by preventing overflow errors that can occur when exponentiating large numbers, potentially leading to inaccurate results. By ensuring that the largest exponent becomes zero, the relative probabilities remain unchanged while improving numerical stability. This method is preferable in practice, particularly when dealing with large numbers in Z, as it mitigates overflow errors and enhances the reliability of the results obtained through softmax calculation."
      ],
      "metadata": {
        "id": "_ZIksQ6VwQHy"
      }
    },
    {
      "cell_type": "markdown",
      "source": [
        "#### Dataset:\n",
        "- https://www.kaggle.com/competitions/digit-recognizer/data?select=train.csv\n"
      ],
      "metadata": {
        "id": "atUYIO5xwQHy"
      }
    },
    {
      "cell_type": "code",
      "source": [
        "# downlload the data from drive\n",
        "! gdown --id 1nGtuOv94-z00oduoEbXmZOXs-OR0G8zc\n",
        "# unzip the data\n",
        "! unzip digit-recognizer.zip\n",
        "# detele unnecessary files\n",
        "!rm -rf __MACOSX\n",
        "# path to the data\n",
        "data_path = '/content/digit-recognizer/train.csv'"
      ],
      "metadata": {
        "colab": {
          "base_uri": "https://localhost:8080/"
        },
        "id": "liBXiCOeb6e0",
        "outputId": "9848b1aa-3c31-4ea6-ffd6-80eb450470d5"
      },
      "execution_count": 1,
      "outputs": [
        {
          "output_type": "stream",
          "name": "stdout",
          "text": [
            "/usr/local/lib/python3.10/dist-packages/gdown/cli.py:138: FutureWarning: Option `--id` was deprecated in version 4.3.1 and will be removed in 5.0. You don't need to pass it anymore to use a file ID.\n",
            "  warnings.warn(\n",
            "Downloading...\n",
            "From: https://drive.google.com/uc?id=1nGtuOv94-z00oduoEbXmZOXs-OR0G8zc\n",
            "To: /content/digit-recognizer.zip\n",
            "100% 15.6M/15.6M [00:00<00:00, 165MB/s]\n",
            "Archive:  digit-recognizer.zip\n",
            "   creating: digit-recognizer/\n",
            "  inflating: __MACOSX/._digit-recognizer  \n",
            "  inflating: digit-recognizer/test.csv  \n",
            "  inflating: __MACOSX/digit-recognizer/._test.csv  \n",
            "  inflating: digit-recognizer/train.csv  \n",
            "  inflating: __MACOSX/digit-recognizer/._train.csv  \n",
            "  inflating: digit-recognizer/sample_submission.csv  \n",
            "  inflating: __MACOSX/digit-recognizer/._sample_submission.csv  \n"
          ]
        }
      ]
    },
    {
      "cell_type": "markdown",
      "source": [
        "### <font color=black><b>NN for MINST with NumPy and Math</b></font>"
      ],
      "metadata": {
        "id": "11DI2K14wQHy"
      }
    },
    {
      "cell_type": "code",
      "source": [
        "## Importing the necessary libraries and dependencies\n",
        "import numpy as np  # NumPy for numerical operations\n",
        "import pandas as pd  # Pandas for data manipulation\n",
        "import matplotlib.pyplot as plt  # Matplotlib for plotting"
      ],
      "metadata": {
        "id": "6S0Sq5qowQHy"
      },
      "execution_count": 2,
      "outputs": []
    },
    {
      "cell_type": "code",
      "source": [
        "# Constants\n",
        "IMAGE_SIZE = 28 * 28  # Size of each input image (28x28 pixels)\n",
        "NUM_CLASSES = 10  # Number of classes (digits 0-9)\n",
        "\n",
        "def load_data(data_path):\n",
        "    \"\"\"Load and preprocess the data.\"\"\"\n",
        "    data = pd.read_csv(data_path).values  # Load data from CSV file\n",
        "    np.random.shuffle(data)  # Shuffle the data to avoid any bias\n",
        "    X = data[:, 1:] / 255.0  # Extract pixel values and normalize them\n",
        "    Y = data[:, 0]  # Extract labels\n",
        "    return X.T, Y  # Transpose X to have features in columns\n",
        "\n",
        "def initialize_parameters(hidden_units):\n",
        "    \"\"\"Initialize weights and biases for the neural network.\"\"\"\n",
        "    # Initialize weights and biases for the hidden layer and output layer\n",
        "    W1 = np.random.randn(hidden_units, IMAGE_SIZE) * 0.01  # Weight matrix for hidden layer\n",
        "    b1 = np.zeros((hidden_units, 1))  # Bias vector for hidden layer\n",
        "    W2 = np.random.randn(NUM_CLASSES, hidden_units) * 0.01  # Weight matrix for output layer\n",
        "    b2 = np.zeros((NUM_CLASSES, 1))  # Bias vector for output layer\n",
        "    return W1, b1, W2, b2\n",
        "\n",
        "def ReLU(Z):\n",
        "    \"\"\"ReLU activation function.\"\"\"\n",
        "    return np.maximum(Z, 0)  # ReLU activation function\n",
        "\n",
        "def softmax(Z):\n",
        "    \"\"\"Softmax activation function.\"\"\"\n",
        "    ##  1. Naive Softmax:\n",
        "    #A = np.exp(Z) / sum(np.exp(Z))\n",
        "    #return A\n",
        "    ##  2. Softmax with Improved Stability\n",
        "    exp_Z = np.exp(Z - np.max(Z))  # Subtracting maximum for numerical stability\n",
        "    return exp_Z / np.sum(exp_Z, axis=0)  # Return softmax probabilities\n",
        "\n",
        "def forward_propagation(X, W1, b1, W2, b2):\n",
        "    \"\"\"Forward propagation through the neural network.\"\"\"\n",
        "    # Perform forward propagation through the network layers\n",
        "    Z1 = W1.dot(X) + b1  # Compute activation of the hidden layer\n",
        "    A1 = ReLU(Z1)  # Apply ReLU activation function\n",
        "    Z2 = W2.dot(A1) + b2  # Compute activation of the output layer\n",
        "    A2 = softmax(Z2)  # Apply softmax activation function\n",
        "    return Z1, A1, Z2, A2  # Return activations for each layer\n",
        "\n",
        "def compute_cost(A2, Y):\n",
        "    \"\"\"Compute the cross-entropy cost.\"\"\"\n",
        "    m = Y.shape[0]  # Number of training examples\n",
        "    # Compute cross-entropy cost\n",
        "    log_probs = -np.log(A2[Y, np.arange(m)])  # Log probabilities of predicted classes\n",
        "    return np.sum(log_probs) / m  # Average cross-entropy cost over all examples\n",
        "\n",
        "def backward_propagation(X, Y, Z1, A1, Z2, A2, W2):\n",
        "    \"\"\"Backward propagation to compute gradients.\"\"\"\n",
        "    m = Y.shape[0]  # Number of training examples\n",
        "    one_hot_Y = np.zeros((NUM_CLASSES, m))  # Initialize one-hot encoded labels\n",
        "    one_hot_Y[Y, np.arange(m)] = 1  # Set true labels to 1 in one-hot encoding\n",
        "\n",
        "    # Compute gradients using backpropagation\n",
        "    dZ2 = A2 - one_hot_Y  # Compute gradient of the output layer\n",
        "    dW2 = (1 / m) * np.dot(dZ2, A1.T)  # Gradient of weights for output layer\n",
        "    db2 = (1 / m) * np.sum(dZ2, axis=1, keepdims=True)  # Gradient of biases for output layer\n",
        "    dZ1 = np.dot(W2.T, dZ2) * (Z1 > 0)  # Compute gradient of the hidden layer\n",
        "    dW1 = (1 / m) * np.dot(dZ1, X.T)  # Gradient of weights for hidden layer\n",
        "    db1 = (1 / m) * np.sum(dZ1, axis=1, keepdims=True)  # Gradient of biases for hidden layer\n",
        "    return dW1, db1, dW2, db2  # Return gradients\n",
        "\n",
        "def update_parameters(W1, b1, W2, b2, dW1, db1, dW2, db2, learning_rate):\n",
        "    \"\"\"Update parameters using gradient descent.\"\"\"\n",
        "    # Update parameters using gradient descent\n",
        "    W1 -= learning_rate * dW1  # Update weights for hidden layer\n",
        "    b1 -= learning_rate * db1  # Update biases for hidden layer\n",
        "    W2 -= learning_rate * dW2  # Update weights for output layer\n",
        "    b2 -= learning_rate * db2  # Update biases for output layer\n",
        "    return W1, b1, W2, b2  # Return updated parameters\n",
        "\n",
        "def train_model(X, Y, hidden_units=10, learning_rate=0.01, iterations=1000):\n",
        "    \"\"\"Train the neural network model.\"\"\"\n",
        "    # Initialize parameters for the neural network\n",
        "    W1, b1, W2, b2 = initialize_parameters(hidden_units)\n",
        "    for i in range(iterations):\n",
        "        # Perform forward propagation\n",
        "        Z1, A1, Z2, A2 = forward_propagation(X, W1, b1, W2, b2)\n",
        "        # Compute cost\n",
        "        cost = compute_cost(A2, Y)\n",
        "        # Perform backward propagation\n",
        "        dW1, db1, dW2, db2 = backward_propagation(X, Y, Z1, A1, Z2, A2, W2)\n",
        "        # Update parameters using gradient descent\n",
        "        W1, b1, W2, b2 = update_parameters(W1, b1, W2, b2, dW1, db1, dW2, db2, learning_rate)\n",
        "        # Print cost every 100 iterations\n",
        "        if i % 100 == 0:\n",
        "            print(\"Iteration {}, Cost: {:.4f}\".format(i, cost))\n",
        "    return W1, b1, W2, b2  # Return trained parameters\n",
        "\n",
        "def predict(X, W1, b1, W2, b2):\n",
        "    \"\"\"Make predictions using the trained model.\"\"\"\n",
        "    _, _, _, A2 = forward_propagation(X, W1, b1, W2, b2)  # Perform forward propagation\n",
        "    return np.argmax(A2, axis=0)  # Return indices of maximum probabilities\n",
        "\n",
        "def visualize_prediction(index, X, Y, W1, b1, W2, b2):\n",
        "    \"\"\"Visualize a single prediction.\"\"\"\n",
        "    # Make prediction for a single example\n",
        "    prediction = predict(X[:, index:index+1], W1, b1, W2, b2)[0]\n",
        "    label = Y[index]  # True label of the example\n",
        "    # Display the image and prediction\n",
        "    plt.imshow(X[:, index].reshape(28, 28), cmap='gray')  # Reshape and display image\n",
        "    plt.title(\"Prediction: {}, Label: {}\".format(prediction, label))  # Display prediction and label\n",
        "    plt.show()\n",
        "\n",
        "\n",
        "# Load and preprocess the data\n",
        "X_train, Y_train = load_data(data_path)\n",
        "\n",
        "# Train the model\n",
        "W1, b1, W2, b2 = train_model(X_train, Y_train, hidden_units=10, learning_rate=0.1, iterations=1000)"
      ],
      "metadata": {
        "colab": {
          "base_uri": "https://localhost:8080/"
        },
        "id": "P3fF4IrSnFG8",
        "outputId": "5d84066e-b1f8-4de6-fbe6-92f4302e4340"
      },
      "execution_count": 3,
      "outputs": [
        {
          "output_type": "stream",
          "name": "stdout",
          "text": [
            "Iteration 0, Cost: 2.3026\n",
            "Iteration 100, Cost: 1.5890\n",
            "Iteration 200, Cost: 0.6721\n",
            "Iteration 300, Cost: 0.5043\n",
            "Iteration 400, Cost: 0.4288\n",
            "Iteration 500, Cost: 0.3872\n",
            "Iteration 600, Cost: 0.3599\n",
            "Iteration 700, Cost: 0.3402\n",
            "Iteration 800, Cost: 0.3252\n",
            "Iteration 900, Cost: 0.3134\n"
          ]
        }
      ]
    },
    {
      "cell_type": "code",
      "source": [
        "# Prompt user to select an image to Visualize a single prediction\n",
        "image_index = int(input(\"Enter the index of the image to visualize (0-59999): \"))\n",
        "visualize_prediction(image_index, X_train, Y_train, W1, b1, W2, b2)"
      ],
      "metadata": {
        "colab": {
          "base_uri": "https://localhost:8080/",
          "height": 470
        },
        "id": "PMomG93MaaUd",
        "outputId": "d7afa0f8-89cb-4578-870b-0328be0b61ff"
      },
      "execution_count": 4,
      "outputs": [
        {
          "name": "stdout",
          "output_type": "stream",
          "text": [
            "Enter the index of the image to visualize (0-59999): 76\n"
          ]
        },
        {
          "output_type": "display_data",
          "data": {
            "text/plain": [
              "<Figure size 640x480 with 1 Axes>"
            ],
            "image/png": "[encoded data removed]"
          },
          "metadata": {}
        }
      ]
    }
  ]
}